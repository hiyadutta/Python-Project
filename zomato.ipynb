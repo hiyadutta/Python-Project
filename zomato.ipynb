{
 "cells": [
  {
   "cell_type": "markdown",
   "id": "c7a715b3",
   "metadata": {},
   "source": [
    "# Project brief"
   ]
  },
  {
   "cell_type": "markdown",
   "id": "5d588aff",
   "metadata": {},
   "source": [
    "\n",
    "Zomato, an Indian multinational company, serves as both a restaurant aggregator and a food delivery service. Founded by Deepinder Goyal and Pankaj Chaddah in 2008, Zomato offers detailed information, menus, and user reviews of restaurants, along with food delivery services from partner establishments across more than 1,000 cities and towns in India, as of 2022–2023. The platform has an average of 17.5 million monthly transacting customers for its food delivery service. Additionally, the number of active restaurant partners on Zomato's platform for food delivery has grown by 8.7% year-on-year, increasing from 208,000 to 226,000.\n",
    "\n",
    "\n",
    "The objective of this project is to derive data-driven insights from Zomato's extensive platform. By analyzing customer transaction patterns, restaurant engagement metrics, and growth trends, the project aims to uncover critical insights that could help optimize the platform's performance. This includes understanding customer behavior, identifying top-performing restaurants, evaluating market penetration, and suggesting strategies for enhancing customer satisfaction and expanding Zomato's footprint in the competitive food delivery market."
   ]
  },
  {
   "cell_type": "markdown",
   "id": "98e3d0b0",
   "metadata": {},
   "source": [
    "# Import all the libraries "
   ]
  },
  {
   "cell_type": "code",
   "execution_count": 26,
   "id": "b8f26c13",
   "metadata": {},
   "outputs": [],
   "source": [
    "import numpy as np\n",
    "import pandas as pd\n",
    "import seaborn as sns\n",
    "import matplotlib.pyplot as plt\n",
    "sns.set()\n",
    "%matplotlib inline\n",
    "import warnings\n",
    "warnings.filterwarnings('ignore')"
   ]
  },
  {
   "cell_type": "code",
   "execution_count": 2,
   "id": "aab09fbc",
   "metadata": {},
   "outputs": [],
   "source": [
    "zomato = pd.read_csv(\"Zomato data .csv\")  ## loading the data"
   ]
  },
  {
   "cell_type": "markdown",
   "id": "880fe985",
   "metadata": {},
   "source": [
    "# Data cleaning"
   ]
  },
  {
   "cell_type": "code",
   "execution_count": 3,
   "id": "5be36d35",
   "metadata": {},
   "outputs": [
    {
     "data": {
      "text/html": [
       "<div>\n",
       "<style scoped>\n",
       "    .dataframe tbody tr th:only-of-type {\n",
       "        vertical-align: middle;\n",
       "    }\n",
       "\n",
       "    .dataframe tbody tr th {\n",
       "        vertical-align: top;\n",
       "    }\n",
       "\n",
       "    .dataframe thead th {\n",
       "        text-align: right;\n",
       "    }\n",
       "</style>\n",
       "<table border=\"1\" class=\"dataframe\">\n",
       "  <thead>\n",
       "    <tr style=\"text-align: right;\">\n",
       "      <th></th>\n",
       "      <th>name</th>\n",
       "      <th>online_order</th>\n",
       "      <th>book_table</th>\n",
       "      <th>rate</th>\n",
       "      <th>votes</th>\n",
       "      <th>approx_cost(for two people)</th>\n",
       "      <th>listed_in(type)</th>\n",
       "    </tr>\n",
       "  </thead>\n",
       "  <tbody>\n",
       "    <tr>\n",
       "      <th>0</th>\n",
       "      <td>Jalsa</td>\n",
       "      <td>Yes</td>\n",
       "      <td>Yes</td>\n",
       "      <td>4.1/5</td>\n",
       "      <td>775</td>\n",
       "      <td>800</td>\n",
       "      <td>Buffet</td>\n",
       "    </tr>\n",
       "    <tr>\n",
       "      <th>1</th>\n",
       "      <td>Spice Elephant</td>\n",
       "      <td>Yes</td>\n",
       "      <td>No</td>\n",
       "      <td>4.1/5</td>\n",
       "      <td>787</td>\n",
       "      <td>800</td>\n",
       "      <td>Buffet</td>\n",
       "    </tr>\n",
       "    <tr>\n",
       "      <th>2</th>\n",
       "      <td>San Churro Cafe</td>\n",
       "      <td>Yes</td>\n",
       "      <td>No</td>\n",
       "      <td>3.8/5</td>\n",
       "      <td>918</td>\n",
       "      <td>800</td>\n",
       "      <td>Buffet</td>\n",
       "    </tr>\n",
       "    <tr>\n",
       "      <th>3</th>\n",
       "      <td>Addhuri Udupi Bhojana</td>\n",
       "      <td>No</td>\n",
       "      <td>No</td>\n",
       "      <td>3.7/5</td>\n",
       "      <td>88</td>\n",
       "      <td>300</td>\n",
       "      <td>Buffet</td>\n",
       "    </tr>\n",
       "    <tr>\n",
       "      <th>4</th>\n",
       "      <td>Grand Village</td>\n",
       "      <td>No</td>\n",
       "      <td>No</td>\n",
       "      <td>3.8/5</td>\n",
       "      <td>166</td>\n",
       "      <td>600</td>\n",
       "      <td>Buffet</td>\n",
       "    </tr>\n",
       "    <tr>\n",
       "      <th>...</th>\n",
       "      <td>...</td>\n",
       "      <td>...</td>\n",
       "      <td>...</td>\n",
       "      <td>...</td>\n",
       "      <td>...</td>\n",
       "      <td>...</td>\n",
       "      <td>...</td>\n",
       "    </tr>\n",
       "    <tr>\n",
       "      <th>143</th>\n",
       "      <td>Melting Melodies</td>\n",
       "      <td>No</td>\n",
       "      <td>No</td>\n",
       "      <td>3.3/5</td>\n",
       "      <td>0</td>\n",
       "      <td>100</td>\n",
       "      <td>Dining</td>\n",
       "    </tr>\n",
       "    <tr>\n",
       "      <th>144</th>\n",
       "      <td>New Indraprasta</td>\n",
       "      <td>No</td>\n",
       "      <td>No</td>\n",
       "      <td>3.3/5</td>\n",
       "      <td>0</td>\n",
       "      <td>150</td>\n",
       "      <td>Dining</td>\n",
       "    </tr>\n",
       "    <tr>\n",
       "      <th>145</th>\n",
       "      <td>Anna Kuteera</td>\n",
       "      <td>Yes</td>\n",
       "      <td>No</td>\n",
       "      <td>4.0/5</td>\n",
       "      <td>771</td>\n",
       "      <td>450</td>\n",
       "      <td>Dining</td>\n",
       "    </tr>\n",
       "    <tr>\n",
       "      <th>146</th>\n",
       "      <td>Darbar</td>\n",
       "      <td>No</td>\n",
       "      <td>No</td>\n",
       "      <td>3.0/5</td>\n",
       "      <td>98</td>\n",
       "      <td>800</td>\n",
       "      <td>Dining</td>\n",
       "    </tr>\n",
       "    <tr>\n",
       "      <th>147</th>\n",
       "      <td>Vijayalakshmi</td>\n",
       "      <td>Yes</td>\n",
       "      <td>No</td>\n",
       "      <td>3.9/5</td>\n",
       "      <td>47</td>\n",
       "      <td>200</td>\n",
       "      <td>Dining</td>\n",
       "    </tr>\n",
       "  </tbody>\n",
       "</table>\n",
       "<p>148 rows × 7 columns</p>\n",
       "</div>"
      ],
      "text/plain": [
       "                      name online_order book_table   rate  votes  \\\n",
       "0                    Jalsa          Yes        Yes  4.1/5    775   \n",
       "1           Spice Elephant          Yes         No  4.1/5    787   \n",
       "2          San Churro Cafe          Yes         No  3.8/5    918   \n",
       "3    Addhuri Udupi Bhojana           No         No  3.7/5     88   \n",
       "4            Grand Village           No         No  3.8/5    166   \n",
       "..                     ...          ...        ...    ...    ...   \n",
       "143       Melting Melodies           No         No  3.3/5      0   \n",
       "144        New Indraprasta           No         No  3.3/5      0   \n",
       "145           Anna Kuteera          Yes         No  4.0/5    771   \n",
       "146                 Darbar           No         No  3.0/5     98   \n",
       "147          Vijayalakshmi          Yes         No  3.9/5     47   \n",
       "\n",
       "     approx_cost(for two people) listed_in(type)  \n",
       "0                            800          Buffet  \n",
       "1                            800          Buffet  \n",
       "2                            800          Buffet  \n",
       "3                            300          Buffet  \n",
       "4                            600          Buffet  \n",
       "..                           ...             ...  \n",
       "143                          100          Dining  \n",
       "144                          150          Dining  \n",
       "145                          450          Dining  \n",
       "146                          800          Dining  \n",
       "147                          200          Dining  \n",
       "\n",
       "[148 rows x 7 columns]"
      ]
     },
     "execution_count": 3,
     "metadata": {},
     "output_type": "execute_result"
    }
   ],
   "source": [
    "zomato"
   ]
  },
  {
   "cell_type": "code",
   "execution_count": 4,
   "id": "4018aeff",
   "metadata": {},
   "outputs": [
    {
     "data": {
      "text/html": [
       "<div>\n",
       "<style scoped>\n",
       "    .dataframe tbody tr th:only-of-type {\n",
       "        vertical-align: middle;\n",
       "    }\n",
       "\n",
       "    .dataframe tbody tr th {\n",
       "        vertical-align: top;\n",
       "    }\n",
       "\n",
       "    .dataframe thead th {\n",
       "        text-align: right;\n",
       "    }\n",
       "</style>\n",
       "<table border=\"1\" class=\"dataframe\">\n",
       "  <thead>\n",
       "    <tr style=\"text-align: right;\">\n",
       "      <th></th>\n",
       "      <th>name</th>\n",
       "      <th>online_order</th>\n",
       "      <th>book_table</th>\n",
       "      <th>rate</th>\n",
       "      <th>votes</th>\n",
       "      <th>approx_cost(for two people)</th>\n",
       "      <th>listed_in(type)</th>\n",
       "    </tr>\n",
       "  </thead>\n",
       "  <tbody>\n",
       "    <tr>\n",
       "      <th>0</th>\n",
       "      <td>Jalsa</td>\n",
       "      <td>Yes</td>\n",
       "      <td>Yes</td>\n",
       "      <td>4.1/5</td>\n",
       "      <td>775</td>\n",
       "      <td>800</td>\n",
       "      <td>Buffet</td>\n",
       "    </tr>\n",
       "    <tr>\n",
       "      <th>1</th>\n",
       "      <td>Spice Elephant</td>\n",
       "      <td>Yes</td>\n",
       "      <td>No</td>\n",
       "      <td>4.1/5</td>\n",
       "      <td>787</td>\n",
       "      <td>800</td>\n",
       "      <td>Buffet</td>\n",
       "    </tr>\n",
       "    <tr>\n",
       "      <th>2</th>\n",
       "      <td>San Churro Cafe</td>\n",
       "      <td>Yes</td>\n",
       "      <td>No</td>\n",
       "      <td>3.8/5</td>\n",
       "      <td>918</td>\n",
       "      <td>800</td>\n",
       "      <td>Buffet</td>\n",
       "    </tr>\n",
       "    <tr>\n",
       "      <th>3</th>\n",
       "      <td>Addhuri Udupi Bhojana</td>\n",
       "      <td>No</td>\n",
       "      <td>No</td>\n",
       "      <td>3.7/5</td>\n",
       "      <td>88</td>\n",
       "      <td>300</td>\n",
       "      <td>Buffet</td>\n",
       "    </tr>\n",
       "    <tr>\n",
       "      <th>4</th>\n",
       "      <td>Grand Village</td>\n",
       "      <td>No</td>\n",
       "      <td>No</td>\n",
       "      <td>3.8/5</td>\n",
       "      <td>166</td>\n",
       "      <td>600</td>\n",
       "      <td>Buffet</td>\n",
       "    </tr>\n",
       "    <tr>\n",
       "      <th>5</th>\n",
       "      <td>Timepass Dinner</td>\n",
       "      <td>Yes</td>\n",
       "      <td>No</td>\n",
       "      <td>3.8/5</td>\n",
       "      <td>286</td>\n",
       "      <td>600</td>\n",
       "      <td>Buffet</td>\n",
       "    </tr>\n",
       "    <tr>\n",
       "      <th>6</th>\n",
       "      <td>Rosewood International Hotel - Bar &amp; Restaurant</td>\n",
       "      <td>No</td>\n",
       "      <td>No</td>\n",
       "      <td>3.6/5</td>\n",
       "      <td>8</td>\n",
       "      <td>800</td>\n",
       "      <td>Buffet</td>\n",
       "    </tr>\n",
       "    <tr>\n",
       "      <th>7</th>\n",
       "      <td>Onesta</td>\n",
       "      <td>Yes</td>\n",
       "      <td>Yes</td>\n",
       "      <td>4.6/5</td>\n",
       "      <td>2556</td>\n",
       "      <td>600</td>\n",
       "      <td>Cafes</td>\n",
       "    </tr>\n",
       "    <tr>\n",
       "      <th>8</th>\n",
       "      <td>Penthouse Cafe</td>\n",
       "      <td>Yes</td>\n",
       "      <td>No</td>\n",
       "      <td>4.0/5</td>\n",
       "      <td>324</td>\n",
       "      <td>700</td>\n",
       "      <td>other</td>\n",
       "    </tr>\n",
       "    <tr>\n",
       "      <th>9</th>\n",
       "      <td>Smacznego</td>\n",
       "      <td>Yes</td>\n",
       "      <td>No</td>\n",
       "      <td>4.2/5</td>\n",
       "      <td>504</td>\n",
       "      <td>550</td>\n",
       "      <td>Cafes</td>\n",
       "    </tr>\n",
       "  </tbody>\n",
       "</table>\n",
       "</div>"
      ],
      "text/plain": [
       "                                              name online_order book_table  \\\n",
       "0                                            Jalsa          Yes        Yes   \n",
       "1                                   Spice Elephant          Yes         No   \n",
       "2                                  San Churro Cafe          Yes         No   \n",
       "3                            Addhuri Udupi Bhojana           No         No   \n",
       "4                                    Grand Village           No         No   \n",
       "5                                  Timepass Dinner          Yes         No   \n",
       "6  Rosewood International Hotel - Bar & Restaurant           No         No   \n",
       "7                                           Onesta          Yes        Yes   \n",
       "8                                   Penthouse Cafe          Yes         No   \n",
       "9                                        Smacznego          Yes         No   \n",
       "\n",
       "    rate  votes  approx_cost(for two people) listed_in(type)  \n",
       "0  4.1/5    775                          800          Buffet  \n",
       "1  4.1/5    787                          800          Buffet  \n",
       "2  3.8/5    918                          800          Buffet  \n",
       "3  3.7/5     88                          300          Buffet  \n",
       "4  3.8/5    166                          600          Buffet  \n",
       "5  3.8/5    286                          600          Buffet  \n",
       "6  3.6/5      8                          800          Buffet  \n",
       "7  4.6/5   2556                          600           Cafes  \n",
       "8  4.0/5    324                          700           other  \n",
       "9  4.2/5    504                          550           Cafes  "
      ]
     },
     "execution_count": 4,
     "metadata": {},
     "output_type": "execute_result"
    }
   ],
   "source": [
    "zomato.head(10)  ## showing first 10 rows"
   ]
  },
  {
   "cell_type": "code",
   "execution_count": 5,
   "id": "5772f907",
   "metadata": {},
   "outputs": [
    {
     "data": {
      "text/plain": [
       "name                           0\n",
       "online_order                   0\n",
       "book_table                     0\n",
       "rate                           0\n",
       "votes                          0\n",
       "approx_cost(for two people)    0\n",
       "listed_in(type)                0\n",
       "dtype: int64"
      ]
     },
     "execution_count": 5,
     "metadata": {},
     "output_type": "execute_result"
    }
   ],
   "source": [
    "zomato.isnull().sum()  ## Checking for null values "
   ]
  },
  {
   "cell_type": "code",
   "execution_count": 6,
   "id": "75e1ad20",
   "metadata": {},
   "outputs": [
    {
     "data": {
      "text/plain": [
       "(148, 7)"
      ]
     },
     "execution_count": 6,
     "metadata": {},
     "output_type": "execute_result"
    }
   ],
   "source": [
    "zomato.shape"
   ]
  },
  {
   "cell_type": "code",
   "execution_count": 7,
   "id": "f9d2d390",
   "metadata": {},
   "outputs": [],
   "source": [
    "zomato.rename(columns={'approx_cost(for two people)': 'approx_cost'}, inplace=True)  ## rename the coloum"
   ]
  },
  {
   "cell_type": "code",
   "execution_count": 8,
   "id": "aaa90e58",
   "metadata": {},
   "outputs": [
    {
     "name": "stdout",
     "output_type": "stream",
     "text": [
      "                    name online_order book_table  rate  votes  approx_cost  \\\n",
      "0                  Jalsa          Yes        Yes   4.1    775          800   \n",
      "1         Spice Elephant          Yes         No   4.1    787          800   \n",
      "2        San Churro Cafe          Yes         No   3.8    918          800   \n",
      "3  Addhuri Udupi Bhojana           No         No   3.7     88          300   \n",
      "4          Grand Village           No         No   3.8    166          600   \n",
      "\n",
      "  listed_in(type)  \n",
      "0          Buffet  \n",
      "1          Buffet  \n",
      "2          Buffet  \n",
      "3          Buffet  \n",
      "4          Buffet  \n"
     ]
    }
   ],
   "source": [
    "def fixrate(value):                               ## fixing the rate column\n",
    "    value = str(value).split('/')\n",
    "    value = value[0]\n",
    "    return float(value)\n",
    "\n",
    "\n",
    "\n",
    "zomato['rate'] = zomato['rate'].apply(fixrate)\n",
    "print(zomato.head(5))"
   ]
  },
  {
   "cell_type": "code",
   "execution_count": 9,
   "id": "4d101c10",
   "metadata": {},
   "outputs": [
    {
     "data": {
      "text/html": [
       "<div>\n",
       "<style scoped>\n",
       "    .dataframe tbody tr th:only-of-type {\n",
       "        vertical-align: middle;\n",
       "    }\n",
       "\n",
       "    .dataframe tbody tr th {\n",
       "        vertical-align: top;\n",
       "    }\n",
       "\n",
       "    .dataframe thead th {\n",
       "        text-align: right;\n",
       "    }\n",
       "</style>\n",
       "<table border=\"1\" class=\"dataframe\">\n",
       "  <thead>\n",
       "    <tr style=\"text-align: right;\">\n",
       "      <th></th>\n",
       "      <th>name</th>\n",
       "      <th>online_order</th>\n",
       "      <th>book_table</th>\n",
       "      <th>rate</th>\n",
       "      <th>votes</th>\n",
       "      <th>approx_cost</th>\n",
       "      <th>listed_in(type)</th>\n",
       "    </tr>\n",
       "  </thead>\n",
       "  <tbody>\n",
       "    <tr>\n",
       "      <th>0</th>\n",
       "      <td>Jalsa</td>\n",
       "      <td>Yes</td>\n",
       "      <td>Yes</td>\n",
       "      <td>4.1</td>\n",
       "      <td>775</td>\n",
       "      <td>800</td>\n",
       "      <td>Buffet</td>\n",
       "    </tr>\n",
       "    <tr>\n",
       "      <th>1</th>\n",
       "      <td>Spice Elephant</td>\n",
       "      <td>Yes</td>\n",
       "      <td>No</td>\n",
       "      <td>4.1</td>\n",
       "      <td>787</td>\n",
       "      <td>800</td>\n",
       "      <td>Buffet</td>\n",
       "    </tr>\n",
       "    <tr>\n",
       "      <th>2</th>\n",
       "      <td>San Churro Cafe</td>\n",
       "      <td>Yes</td>\n",
       "      <td>No</td>\n",
       "      <td>3.8</td>\n",
       "      <td>918</td>\n",
       "      <td>800</td>\n",
       "      <td>Buffet</td>\n",
       "    </tr>\n",
       "    <tr>\n",
       "      <th>3</th>\n",
       "      <td>Addhuri Udupi Bhojana</td>\n",
       "      <td>No</td>\n",
       "      <td>No</td>\n",
       "      <td>3.7</td>\n",
       "      <td>88</td>\n",
       "      <td>300</td>\n",
       "      <td>Buffet</td>\n",
       "    </tr>\n",
       "    <tr>\n",
       "      <th>4</th>\n",
       "      <td>Grand Village</td>\n",
       "      <td>No</td>\n",
       "      <td>No</td>\n",
       "      <td>3.8</td>\n",
       "      <td>166</td>\n",
       "      <td>600</td>\n",
       "      <td>Buffet</td>\n",
       "    </tr>\n",
       "    <tr>\n",
       "      <th>...</th>\n",
       "      <td>...</td>\n",
       "      <td>...</td>\n",
       "      <td>...</td>\n",
       "      <td>...</td>\n",
       "      <td>...</td>\n",
       "      <td>...</td>\n",
       "      <td>...</td>\n",
       "    </tr>\n",
       "    <tr>\n",
       "      <th>143</th>\n",
       "      <td>Melting Melodies</td>\n",
       "      <td>No</td>\n",
       "      <td>No</td>\n",
       "      <td>3.3</td>\n",
       "      <td>0</td>\n",
       "      <td>100</td>\n",
       "      <td>Dining</td>\n",
       "    </tr>\n",
       "    <tr>\n",
       "      <th>144</th>\n",
       "      <td>New Indraprasta</td>\n",
       "      <td>No</td>\n",
       "      <td>No</td>\n",
       "      <td>3.3</td>\n",
       "      <td>0</td>\n",
       "      <td>150</td>\n",
       "      <td>Dining</td>\n",
       "    </tr>\n",
       "    <tr>\n",
       "      <th>145</th>\n",
       "      <td>Anna Kuteera</td>\n",
       "      <td>Yes</td>\n",
       "      <td>No</td>\n",
       "      <td>4.0</td>\n",
       "      <td>771</td>\n",
       "      <td>450</td>\n",
       "      <td>Dining</td>\n",
       "    </tr>\n",
       "    <tr>\n",
       "      <th>146</th>\n",
       "      <td>Darbar</td>\n",
       "      <td>No</td>\n",
       "      <td>No</td>\n",
       "      <td>3.0</td>\n",
       "      <td>98</td>\n",
       "      <td>800</td>\n",
       "      <td>Dining</td>\n",
       "    </tr>\n",
       "    <tr>\n",
       "      <th>147</th>\n",
       "      <td>Vijayalakshmi</td>\n",
       "      <td>Yes</td>\n",
       "      <td>No</td>\n",
       "      <td>3.9</td>\n",
       "      <td>47</td>\n",
       "      <td>200</td>\n",
       "      <td>Dining</td>\n",
       "    </tr>\n",
       "  </tbody>\n",
       "</table>\n",
       "<p>148 rows × 7 columns</p>\n",
       "</div>"
      ],
      "text/plain": [
       "                      name online_order book_table  rate  votes  approx_cost  \\\n",
       "0                    Jalsa          Yes        Yes   4.1    775          800   \n",
       "1           Spice Elephant          Yes         No   4.1    787          800   \n",
       "2          San Churro Cafe          Yes         No   3.8    918          800   \n",
       "3    Addhuri Udupi Bhojana           No         No   3.7     88          300   \n",
       "4            Grand Village           No         No   3.8    166          600   \n",
       "..                     ...          ...        ...   ...    ...          ...   \n",
       "143       Melting Melodies           No         No   3.3      0          100   \n",
       "144        New Indraprasta           No         No   3.3      0          150   \n",
       "145           Anna Kuteera          Yes         No   4.0    771          450   \n",
       "146                 Darbar           No         No   3.0     98          800   \n",
       "147          Vijayalakshmi          Yes         No   3.9     47          200   \n",
       "\n",
       "    listed_in(type)  \n",
       "0            Buffet  \n",
       "1            Buffet  \n",
       "2            Buffet  \n",
       "3            Buffet  \n",
       "4            Buffet  \n",
       "..              ...  \n",
       "143          Dining  \n",
       "144          Dining  \n",
       "145          Dining  \n",
       "146          Dining  \n",
       "147          Dining  \n",
       "\n",
       "[148 rows x 7 columns]"
      ]
     },
     "execution_count": 9,
     "metadata": {},
     "output_type": "execute_result"
    }
   ],
   "source": [
    "zomato"
   ]
  },
  {
   "cell_type": "code",
   "execution_count": 10,
   "id": "cd55b539",
   "metadata": {},
   "outputs": [
    {
     "name": "stdout",
     "output_type": "stream",
     "text": [
      "<class 'pandas.core.frame.DataFrame'>\n",
      "RangeIndex: 148 entries, 0 to 147\n",
      "Data columns (total 7 columns):\n",
      " #   Column           Non-Null Count  Dtype  \n",
      "---  ------           --------------  -----  \n",
      " 0   name             148 non-null    object \n",
      " 1   online_order     148 non-null    object \n",
      " 2   book_table       148 non-null    object \n",
      " 3   rate             148 non-null    float64\n",
      " 4   votes            148 non-null    int64  \n",
      " 5   approx_cost      148 non-null    int64  \n",
      " 6   listed_in(type)  148 non-null    object \n",
      "dtypes: float64(1), int64(2), object(4)\n",
      "memory usage: 8.2+ KB\n"
     ]
    }
   ],
   "source": [
    "zomato.info()"
   ]
  },
  {
   "cell_type": "markdown",
   "id": "afe93fa9",
   "metadata": {},
   "source": [
    "# EDA"
   ]
  },
  {
   "cell_type": "markdown",
   "id": "e352e66e",
   "metadata": {},
   "source": [
    "### Majority of the customers are ordered from which type of resturants"
   ]
  },
  {
   "cell_type": "code",
   "execution_count": 11,
   "id": "37dcb80b",
   "metadata": {},
   "outputs": [
    {
     "data": {
      "text/plain": [
       "Index(['name', 'online_order', 'book_table', 'rate', 'votes', 'approx_cost',\n",
       "       'listed_in(type)'],\n",
       "      dtype='object')"
      ]
     },
     "execution_count": 11,
     "metadata": {},
     "output_type": "execute_result"
    }
   ],
   "source": [
    "zomato.columns\n"
   ]
  },
  {
   "cell_type": "code",
   "execution_count": 12,
   "id": "ef88b1f3",
   "metadata": {},
   "outputs": [
    {
     "data": {
      "image/png": "[encoded data removed]",
      "text/plain": [
       "<Figure size 640x480 with 1 Axes>"
      ]
     },
     "metadata": {},
     "output_type": "display_data"
    }
   ],
   "source": [
    "type_of_resturent= sns.countplot(x=zomato['listed_in(type)'], data =zomato)\n",
    "\n",
    "for bars in type_of_resturent.containers:\n",
    "    type_of_resturent.bar_label(bars)"
   ]
  },
  {
   "cell_type": "markdown",
   "id": "3bb9c51c",
   "metadata": {},
   "source": [
    "It can be stated from the above graph that, majority of the custoemers are prefferred dinning as their first choice and maximum of them are avoid the buffet. "
   ]
  },
  {
   "cell_type": "markdown",
   "id": "f06c678e",
   "metadata": {},
   "source": [
    "### Votes recieved for the resturants "
   ]
  },
  {
   "cell_type": "code",
   "execution_count": 13,
   "id": "a7782e69",
   "metadata": {},
   "outputs": [
    {
     "data": {
      "image/png": "[encoded data removed]",
      "text/plain": [
       "<Figure size 640x480 with 1 Axes>"
      ]
     },
     "metadata": {},
     "output_type": "display_data"
    }
   ],
   "source": [
    "grouped_data = zomato.groupby('listed_in(type)') ['votes'].sum()\n",
    "graph = pd.DataFrame({'votes' : grouped_data}) \n",
    "plt.plot(graph, c= 'red', marker= 'o')\n",
    "plt.xlabel(\"Resturant type\", size = 15)\n",
    "plt.ylabel(\"votes\", size = 15)\n",
    "plt.show()"
   ]
  },
  {
   "cell_type": "code",
   "execution_count": 14,
   "id": "1ba865d5",
   "metadata": {},
   "outputs": [],
   "source": [
    "vote_resturant  = zomato.groupby([zomato['listed_in(type)']],as_index=False).votes.sum().sort_values(by='votes',ascending= False)"
   ]
  },
  {
   "cell_type": "code",
   "execution_count": 15,
   "id": "95745671",
   "metadata": {},
   "outputs": [
    {
     "data": {
      "text/html": [
       "<div>\n",
       "<style scoped>\n",
       "    .dataframe tbody tr th:only-of-type {\n",
       "        vertical-align: middle;\n",
       "    }\n",
       "\n",
       "    .dataframe tbody tr th {\n",
       "        vertical-align: top;\n",
       "    }\n",
       "\n",
       "    .dataframe thead th {\n",
       "        text-align: right;\n",
       "    }\n",
       "</style>\n",
       "<table border=\"1\" class=\"dataframe\">\n",
       "  <thead>\n",
       "    <tr style=\"text-align: right;\">\n",
       "      <th></th>\n",
       "      <th>listed_in(type)</th>\n",
       "      <th>votes</th>\n",
       "    </tr>\n",
       "  </thead>\n",
       "  <tbody>\n",
       "    <tr>\n",
       "      <th>2</th>\n",
       "      <td>Dining</td>\n",
       "      <td>20363</td>\n",
       "    </tr>\n",
       "    <tr>\n",
       "      <th>3</th>\n",
       "      <td>other</td>\n",
       "      <td>9367</td>\n",
       "    </tr>\n",
       "    <tr>\n",
       "      <th>1</th>\n",
       "      <td>Cafes</td>\n",
       "      <td>6434</td>\n",
       "    </tr>\n",
       "    <tr>\n",
       "      <th>0</th>\n",
       "      <td>Buffet</td>\n",
       "      <td>3028</td>\n",
       "    </tr>\n",
       "  </tbody>\n",
       "</table>\n",
       "</div>"
      ],
      "text/plain": [
       "  listed_in(type)  votes\n",
       "2          Dining  20363\n",
       "3           other   9367\n",
       "1           Cafes   6434\n",
       "0          Buffet   3028"
      ]
     },
     "execution_count": 15,
     "metadata": {},
     "output_type": "execute_result"
    }
   ],
   "source": [
    "vote_resturant"
   ]
  },
  {
   "cell_type": "code",
   "execution_count": 16,
   "id": "e4d078c6",
   "metadata": {},
   "outputs": [
    {
     "data": {
      "image/png": "[encoded data removed]",
      "text/plain": [
       "<Figure size 640x480 with 1 Axes>"
      ]
     },
     "metadata": {},
     "output_type": "display_data"
    }
   ],
   "source": [
    "vote_resturant_graph = sns.barplot(x='listed_in(type)', y='votes', data =vote_resturant)\n",
    "\n",
    "for bars in vote_resturant_graph.containers:\n",
    "    vote_resturant_graph.bar_label(bars)"
   ]
  },
  {
   "cell_type": "markdown",
   "id": "312727ad",
   "metadata": {},
   "source": [
    "Dining type of resturant has got majority of the votes from the customers and buffet got lowest votes"
   ]
  },
  {
   "cell_type": "markdown",
   "id": "486af7b8",
   "metadata": {},
   "source": [
    "### Ratings that are received by the majority of restaurants "
   ]
  },
  {
   "cell_type": "code",
   "execution_count": 17,
   "id": "ef76bc96",
   "metadata": {},
   "outputs": [
    {
     "data": {
      "image/png": "[encoded data removed]",
      "text/plain": [
       "<Figure size 640x480 with 1 Axes>"
      ]
     },
     "metadata": {},
     "output_type": "display_data"
    }
   ],
   "source": [
    "plt.hist(zomato['rate'], bins = 5)\n",
    "plt.title('ratings distribution')\n",
    "plt.show()"
   ]
  },
  {
   "cell_type": "markdown",
   "id": "d9ca2645",
   "metadata": {},
   "source": [
    "Majority of the resturants has got ratings between 3.5 to 4"
   ]
  },
  {
   "cell_type": "markdown",
   "id": "5fd0d7c1",
   "metadata": {},
   "source": [
    "###  What is the  spending of the customers on each order?"
   ]
  },
  {
   "cell_type": "code",
   "execution_count": 18,
   "id": "e1952ba0",
   "metadata": {},
   "outputs": [
    {
     "data": {
      "image/png": "[encoded data removed]",
      "text/plain": [
       "<Figure size 640x480 with 1 Axes>"
      ]
     },
     "metadata": {},
     "output_type": "display_data"
    }
   ],
   "source": [
    "\n",
    "order_amount = sns.countplot(x=zomato['approx_cost'], data = zomato)\n",
    "\n",
    "for bars in order_amount.containers:\n",
    "    order_amount.bar_label(bars)"
   ]
  },
  {
   "cell_type": "markdown",
   "id": "9a25286f",
   "metadata": {},
   "source": [
    "majority of the couple has ordered 300 rupees food "
   ]
  },
  {
   "cell_type": "markdown",
   "id": "2653338c",
   "metadata": {},
   "source": [
    "### What is the average spending on each order?"
   ]
  },
  {
   "cell_type": "code",
   "execution_count": 19,
   "id": "9430055b",
   "metadata": {},
   "outputs": [
    {
     "data": {
      "text/html": [
       "<div>\n",
       "<style scoped>\n",
       "    .dataframe tbody tr th:only-of-type {\n",
       "        vertical-align: middle;\n",
       "    }\n",
       "\n",
       "    .dataframe tbody tr th {\n",
       "        vertical-align: top;\n",
       "    }\n",
       "\n",
       "    .dataframe thead th {\n",
       "        text-align: right;\n",
       "    }\n",
       "</style>\n",
       "<table border=\"1\" class=\"dataframe\">\n",
       "  <thead>\n",
       "    <tr style=\"text-align: right;\">\n",
       "      <th></th>\n",
       "      <th>listed_in(type)</th>\n",
       "      <th>approx_cost</th>\n",
       "    </tr>\n",
       "  </thead>\n",
       "  <tbody>\n",
       "    <tr>\n",
       "      <th>0</th>\n",
       "      <td>Buffet</td>\n",
       "      <td>671.428571</td>\n",
       "    </tr>\n",
       "    <tr>\n",
       "      <th>3</th>\n",
       "      <td>other</td>\n",
       "      <td>668.750000</td>\n",
       "    </tr>\n",
       "    <tr>\n",
       "      <th>1</th>\n",
       "      <td>Cafes</td>\n",
       "      <td>545.652174</td>\n",
       "    </tr>\n",
       "    <tr>\n",
       "      <th>2</th>\n",
       "      <td>Dining</td>\n",
       "      <td>357.272727</td>\n",
       "    </tr>\n",
       "  </tbody>\n",
       "</table>\n",
       "</div>"
      ],
      "text/plain": [
       "  listed_in(type)  approx_cost\n",
       "0          Buffet   671.428571\n",
       "3           other   668.750000\n",
       "1           Cafes   545.652174\n",
       "2          Dining   357.272727"
      ]
     },
     "execution_count": 19,
     "metadata": {},
     "output_type": "execute_result"
    }
   ],
   "source": [
    "spend_resturant  = zomato.groupby([zomato['listed_in(type)']],as_index=False).approx_cost.mean().sort_values(by=['approx_cost'],ascending= False)\n",
    "spend_resturant"
   ]
  },
  {
   "cell_type": "code",
   "execution_count": 20,
   "id": "504f702d",
   "metadata": {},
   "outputs": [
    {
     "data": {
      "image/png": "[encoded data removed]",
      "text/plain": [
       "<Figure size 640x480 with 1 Axes>"
      ]
     },
     "metadata": {},
     "output_type": "display_data"
    }
   ],
   "source": [
    "spend_resturant_graph = sns.barplot(x='listed_in(type)', y='approx_cost', data =spend_resturant)\n",
    "\n",
    "for bars in spend_resturant_graph.containers:\n",
    "    spend_resturant_graph.bar_label(bars)"
   ]
  },
  {
   "cell_type": "markdown",
   "id": "2414ea40",
   "metadata": {},
   "source": [
    "It says buffet has the highest average spending and dining has the lowset average spending"
   ]
  },
  {
   "cell_type": "markdown",
   "id": "c7f673cb",
   "metadata": {},
   "source": [
    "### Which mode (online or offline) has received the maximum rating?"
   ]
  },
  {
   "cell_type": "code",
   "execution_count": 21,
   "id": "7174a4a7",
   "metadata": {},
   "outputs": [
    {
     "data": {
      "text/html": [
       "<div>\n",
       "<style scoped>\n",
       "    .dataframe tbody tr th:only-of-type {\n",
       "        vertical-align: middle;\n",
       "    }\n",
       "\n",
       "    .dataframe tbody tr th {\n",
       "        vertical-align: top;\n",
       "    }\n",
       "\n",
       "    .dataframe thead th {\n",
       "        text-align: right;\n",
       "    }\n",
       "</style>\n",
       "<table border=\"1\" class=\"dataframe\">\n",
       "  <thead>\n",
       "    <tr style=\"text-align: right;\">\n",
       "      <th></th>\n",
       "      <th>name</th>\n",
       "      <th>online_order</th>\n",
       "      <th>book_table</th>\n",
       "      <th>rate</th>\n",
       "      <th>votes</th>\n",
       "      <th>approx_cost</th>\n",
       "      <th>listed_in(type)</th>\n",
       "    </tr>\n",
       "  </thead>\n",
       "  <tbody>\n",
       "    <tr>\n",
       "      <th>0</th>\n",
       "      <td>Jalsa</td>\n",
       "      <td>Yes</td>\n",
       "      <td>Yes</td>\n",
       "      <td>4.1</td>\n",
       "      <td>775</td>\n",
       "      <td>800</td>\n",
       "      <td>Buffet</td>\n",
       "    </tr>\n",
       "    <tr>\n",
       "      <th>1</th>\n",
       "      <td>Spice Elephant</td>\n",
       "      <td>Yes</td>\n",
       "      <td>No</td>\n",
       "      <td>4.1</td>\n",
       "      <td>787</td>\n",
       "      <td>800</td>\n",
       "      <td>Buffet</td>\n",
       "    </tr>\n",
       "    <tr>\n",
       "      <th>2</th>\n",
       "      <td>San Churro Cafe</td>\n",
       "      <td>Yes</td>\n",
       "      <td>No</td>\n",
       "      <td>3.8</td>\n",
       "      <td>918</td>\n",
       "      <td>800</td>\n",
       "      <td>Buffet</td>\n",
       "    </tr>\n",
       "    <tr>\n",
       "      <th>3</th>\n",
       "      <td>Addhuri Udupi Bhojana</td>\n",
       "      <td>No</td>\n",
       "      <td>No</td>\n",
       "      <td>3.7</td>\n",
       "      <td>88</td>\n",
       "      <td>300</td>\n",
       "      <td>Buffet</td>\n",
       "    </tr>\n",
       "    <tr>\n",
       "      <th>4</th>\n",
       "      <td>Grand Village</td>\n",
       "      <td>No</td>\n",
       "      <td>No</td>\n",
       "      <td>3.8</td>\n",
       "      <td>166</td>\n",
       "      <td>600</td>\n",
       "      <td>Buffet</td>\n",
       "    </tr>\n",
       "  </tbody>\n",
       "</table>\n",
       "</div>"
      ],
      "text/plain": [
       "                    name online_order book_table  rate  votes  approx_cost  \\\n",
       "0                  Jalsa          Yes        Yes   4.1    775          800   \n",
       "1         Spice Elephant          Yes         No   4.1    787          800   \n",
       "2        San Churro Cafe          Yes         No   3.8    918          800   \n",
       "3  Addhuri Udupi Bhojana           No         No   3.7     88          300   \n",
       "4          Grand Village           No         No   3.8    166          600   \n",
       "\n",
       "  listed_in(type)  \n",
       "0          Buffet  \n",
       "1          Buffet  \n",
       "2          Buffet  \n",
       "3          Buffet  \n",
       "4          Buffet  "
      ]
     },
     "execution_count": 21,
     "metadata": {},
     "output_type": "execute_result"
    }
   ],
   "source": [
    "zomato.head()"
   ]
  },
  {
   "cell_type": "code",
   "execution_count": 22,
   "id": "fd94d20d",
   "metadata": {},
   "outputs": [
    {
     "data": {
      "text/plain": [
       "<Axes: xlabel='online_order', ylabel='rate'>"
      ]
     },
     "execution_count": 22,
     "metadata": {},
     "output_type": "execute_result"
    },
    {
     "data": {
      "image/png": "[encoded data removed]",
      "text/plain": [
       "<Figure size 640x480 with 1 Axes>"
      ]
     },
     "metadata": {},
     "output_type": "display_data"
    }
   ],
   "source": [
    "sns.boxplot(x=zomato['online_order'], y= zomato['rate'], data= zomato)"
   ]
  },
  {
   "cell_type": "markdown",
   "id": "e3511fb9",
   "metadata": {},
   "source": [
    "Online custoemers has gave the high rating than the offline custoemers. It shows Zomato has a greater online popularity than offline. "
   ]
  },
  {
   "cell_type": "markdown",
   "id": "0df1bb14",
   "metadata": {},
   "source": [
    "### Which type of restaurant received more offline orders, so that Zomato can provide customers with some good offers?"
   ]
  },
  {
   "cell_type": "code",
   "execution_count": 23,
   "id": "ad95d32a",
   "metadata": {},
   "outputs": [],
   "source": [
    "pivot_table = zomato.pivot_table(index= 'listed_in(type)', columns = 'online_order', aggfunc = 'size', fill_value = 0 )"
   ]
  },
  {
   "cell_type": "code",
   "execution_count": 24,
   "id": "05e3d5aa",
   "metadata": {},
   "outputs": [
    {
     "data": {
      "text/html": [
       "<div>\n",
       "<style scoped>\n",
       "    .dataframe tbody tr th:only-of-type {\n",
       "        vertical-align: middle;\n",
       "    }\n",
       "\n",
       "    .dataframe tbody tr th {\n",
       "        vertical-align: top;\n",
       "    }\n",
       "\n",
       "    .dataframe thead th {\n",
       "        text-align: right;\n",
       "    }\n",
       "</style>\n",
       "<table border=\"1\" class=\"dataframe\">\n",
       "  <thead>\n",
       "    <tr style=\"text-align: right;\">\n",
       "      <th>online_order</th>\n",
       "      <th>No</th>\n",
       "      <th>Yes</th>\n",
       "    </tr>\n",
       "    <tr>\n",
       "      <th>listed_in(type)</th>\n",
       "      <th></th>\n",
       "      <th></th>\n",
       "    </tr>\n",
       "  </thead>\n",
       "  <tbody>\n",
       "    <tr>\n",
       "      <th>Buffet</th>\n",
       "      <td>3</td>\n",
       "      <td>4</td>\n",
       "    </tr>\n",
       "    <tr>\n",
       "      <th>Cafes</th>\n",
       "      <td>8</td>\n",
       "      <td>15</td>\n",
       "    </tr>\n",
       "    <tr>\n",
       "      <th>Dining</th>\n",
       "      <td>77</td>\n",
       "      <td>33</td>\n",
       "    </tr>\n",
       "    <tr>\n",
       "      <th>other</th>\n",
       "      <td>2</td>\n",
       "      <td>6</td>\n",
       "    </tr>\n",
       "  </tbody>\n",
       "</table>\n",
       "</div>"
      ],
      "text/plain": [
       "online_order     No  Yes\n",
       "listed_in(type)         \n",
       "Buffet            3    4\n",
       "Cafes             8   15\n",
       "Dining           77   33\n",
       "other             2    6"
      ]
     },
     "execution_count": 24,
     "metadata": {},
     "output_type": "execute_result"
    }
   ],
   "source": [
    "pivot_table"
   ]
  },
  {
   "cell_type": "code",
   "execution_count": 25,
   "id": "268d6a27",
   "metadata": {
    "scrolled": true
   },
   "outputs": [
    {
     "data": {
      "image/png": "[encoded data removed]",
      "text/plain": [
       "<Figure size 640x480 with 2 Axes>"
      ]
     },
     "metadata": {},
     "output_type": "display_data"
    }
   ],
   "source": [
    "sns.heatmap(pivot_table, cmap= 'rainbow', annot = True, fmt= 'd')\n",
    "plt.xlabel('online order')\n",
    "plt.ylabel('listed_in(type)')\n",
    "plt.show()"
   ]
  },
  {
   "cell_type": "markdown",
   "id": "241d10f0",
   "metadata": {},
   "source": [
    "The heatmap shows dining has highest offline order \n",
    "\n"
   ]
  },
  {
   "cell_type": "markdown",
   "id": "94925566",
   "metadata": {},
   "source": [
    "# Summary"
   ]
  },
  {
   "cell_type": "markdown",
   "id": "6a350999",
   "metadata": {},
   "source": [
    "After analyzing the Zomato data, it is evident that the majority of consumers prefer the dining facilities offered by the platform. However, Zomato needs to focus on improving its buffet segment to expand its customer base. The data shows that dining facilities received the highest number of votes, while cafes garnered moderate attention, and the buffet segment received the lowest number of votes from customers. Therefore, it is crucial for Zomato to enhance the offerings and customer service within its buffet segment.\n",
    "\n",
    "Zomato's restaurants have received an average rating of 3.5 to 4, reflecting the platform's excellent customer service, timely delivery, and quality of food. The majority of customers tend to spend around 300 rupees per order. Notably, the buffet segment has the highest average cost, followed by cafes and dining facilities.\n",
    "\n",
    "Furthermore, Zomato has received the majority of its ratings from online orders rather than offline orders, indicating that its online presence is more popular among customers. For offline orders, dining facilities have the largest customer base compared to cafes and buffets.\n",
    "\n",
    "Overall, while Zomato has established a strong reputation in online orders and dining facilities, there is room for improvement in its buffet offerings to attract a broader customer base."
   ]
  }
 ],
 "metadata": {
  "kernelspec": {
   "display_name": "Python 3 (ipykernel)",
   "language": "python",
   "name": "python3"
  },
  "language_info": {
   "codemirror_mode": {
    "name": "ipython",
    "version": 3
   },
   "file_extension": ".py",
   "mimetype": "text/x-python",
   "name": "python",
   "nbconvert_exporter": "python",
   "pygments_lexer": "ipython3",
   "version": "3.11.4"
  }
 },
 "nbformat": 4,
 "nbformat_minor": 5
}
